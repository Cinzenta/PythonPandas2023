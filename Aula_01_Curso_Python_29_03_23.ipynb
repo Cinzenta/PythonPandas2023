{
  "nbformat": 4,
  "nbformat_minor": 0,
  "metadata": {
    "colab": {
      "provenance": [],
      "authorship_tag": "ABX9TyMd/3OozPUOSglB3ecKQcWH",
      "include_colab_link": true
    },
    "kernelspec": {
      "name": "python3",
      "display_name": "Python 3"
    },
    "language_info": {
      "name": "python"
    }
  },
  "cells": [
    {
      "cell_type": "markdown",
      "metadata": {
        "id": "view-in-github",
        "colab_type": "text"
      },
      "source": [
        "<a href=\"https://colab.research.google.com/github/Cinzenta/PythonPandas2023/blob/main/Aula_01_Curso_Python_29_03_23.ipynb\" target=\"_parent\"><img src=\"https://colab.research.google.com/assets/colab-badge.svg\" alt=\"Open In Colab\"/></a>"
      ]
    },
    {
      "cell_type": "markdown",
      "source": [
        "Fazer programa que converte a velocidade de m/s para km/h.\n",
        "Dado: velocidade(m/s) = velocidade(km/h)*3.6"
      ],
      "metadata": {
        "id": "vCP1A3KmIPrl"
      }
    },
    {
      "cell_type": "code",
      "execution_count": 2,
      "metadata": {
        "colab": {
          "base_uri": "https://localhost:8080/"
        },
        "id": "z2Gz3I1bHHeH",
        "outputId": "71210e06-959a-49c9-dab5-bb52d4f7e72b"
      },
      "outputs": [
        {
          "output_type": "stream",
          "name": "stdout",
          "text": [
            "Informe uma velocidade em m/s, usar \".\" para casas decimais\n",
            "25\n",
            "6.944444444444445\n"
          ]
        }
      ],
      "source": [
        "# Atribuição da variavel velocidade\n",
        "print('Informe uma velocidade em m/s, usar \".\" para casas decimais') #Instrução de entrada de dados\n",
        "velocidade_m_s = float(input())\n",
        "\n",
        "# Conversão da velocidade\n",
        "velocidade_km_h = velocidade_m_s / 3.6\n",
        "\n",
        "#Imprimir na tela a velocidade convertida\n",
        "print(velocidade_km_h)\n"
      ]
    },
    {
      "cell_type": "markdown",
      "source": [
        "Fazer um programa em que o usuario digita o raio de uma circunferencia e o programa imprime na tela o seu comprimento.\n",
        "Dado: C=2 X pi(3.14159265) X r"
      ],
      "metadata": {
        "id": "haNmDYAZKswv"
      }
    },
    {
      "cell_type": "code",
      "source": [
        "# Importação da biblioteca math\n",
        "from math import pi\n",
        "\n",
        "# Declaração da variavel\n",
        "print('Digite o raio da circunferencia')\n",
        "raio = float(input())\n",
        "\n",
        "# Calcular o comprimento \n",
        "comprimento = 2 * raio * pi\n",
        "\n",
        "# Imprimir na tela\n",
        "print('O comprimento ficou em {:.2f}'.format(comprimento)) #:.2f é para arredondar para duas casas decimais apos a virgula\n"
      ],
      "metadata": {
        "colab": {
          "base_uri": "https://localhost:8080/"
        },
        "id": "eKyktkMBLd5N",
        "outputId": "88e8db02-ad6f-4f04-977a-77147c9b38cb"
      },
      "execution_count": 4,
      "outputs": [
        {
          "output_type": "stream",
          "name": "stdout",
          "text": [
            "Digite o raio da circunferencia\n",
            "5\n",
            "O comprimento ficou em 31.42\n"
          ]
        }
      ]
    },
    {
      "cell_type": "markdown",
      "source": [
        "Fazer um programa em que o usuario entra com um numero e o programa imprime na tela seu antecessor e seu sucessor."
      ],
      "metadata": {
        "id": "ybiaD-lEOMFc"
      }
    },
    {
      "cell_type": "code",
      "source": [
        "# Declaração da variavel \n",
        "numero = int(input('Digite um numero inteiro: ')) # outra forma de fazer o imput\n",
        "# Calcular o antecessor\n",
        "antecessor = numero - 1\n",
        "#Calcular o sucessor \n",
        "sucessor = numero + 1\n",
        "#Imprimir na tela\n",
        "print(f\"Antecessor de {numero} = {antecessor}\")\n",
        "print(\"Sucessor de {} = {}\".format(numero,sucessor))"
      ],
      "metadata": {
        "colab": {
          "base_uri": "https://localhost:8080/"
        },
        "id": "Y4XiByM5O9Ms",
        "outputId": "c6a038db-0650-467b-f574-b491b44dbbd8"
      },
      "execution_count": 6,
      "outputs": [
        {
          "output_type": "stream",
          "name": "stdout",
          "text": [
            "Digite um numero inteiro: 2\n",
            "Antecessor de 2 = 1\n",
            "Sucessor de 2 = 3\n"
          ]
        }
      ]
    },
    {
      "cell_type": "markdown",
      "source": [
        "Fazer um programa em que o usuario entra com o ano de seu nascimento e o programa imprime na tela sua idade."
      ],
      "metadata": {
        "id": "lJvMZ6uFPMq2"
      }
    },
    {
      "cell_type": "code",
      "source": [
        "# Declaração de variavel\n",
        "ano = int(input(\"Em que ano voce nasceu? \"))\n",
        "# Calcular aniversario\n",
        "idade = 2023 - ano\n",
        "# Imprimir na tela o aniversario \n",
        "print(f\"Voce tem {idade} anos\")"
      ],
      "metadata": {
        "colab": {
          "base_uri": "https://localhost:8080/"
        },
        "id": "74P-jPjHPbzY",
        "outputId": "f1c583ed-a010-45a7-8932-c4a57f16c9a5"
      },
      "execution_count": 7,
      "outputs": [
        {
          "output_type": "stream",
          "name": "stdout",
          "text": [
            "Em que ano voce nasceu? 1994\n",
            "Voce tem 29 anos\n"
          ]
        }
      ]
    }
  ]
}