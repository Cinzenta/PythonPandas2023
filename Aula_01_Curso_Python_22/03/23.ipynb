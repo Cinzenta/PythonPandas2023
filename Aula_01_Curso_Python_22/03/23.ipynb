{
  "nbformat": 4,
  "nbformat_minor": 0,
  "metadata": {
    "colab": {
      "provenance": [],
      "authorship_tag": "ABX9TyNAvhZAmycDhDRGqb9VLp3J",
      "include_colab_link": true
    },
    "kernelspec": {
      "name": "python3",
      "display_name": "Python 3"
    },
    "language_info": {
      "name": "python"
    }
  },
  "cells": [
    {
      "cell_type": "markdown",
      "metadata": {
        "id": "view-in-github",
        "colab_type": "text"
      },
      "source": [
        "<a href=\"https://colab.research.google.com/github/Cinzenta/PythonPandas2023/blob/main/Aula_01_Curso_Python_22/03/23.ipynb\" target=\"_parent\"><img src=\"https://colab.research.google.com/assets/colab-badge.svg\" alt=\"Open In Colab\"/></a>"
      ]
    },
    {
      "cell_type": "code",
      "execution_count": null,
      "metadata": {
        "colab": {
          "base_uri": "https://localhost:8080/"
        },
        "id": "u-XC41YkPb3D",
        "outputId": "d7c8bc15-1285-4b71-e07a-89b914416b2a"
      },
      "outputs": [
        {
          "output_type": "stream",
          "name": "stdout",
          "text": [
            "Milena\n"
          ]
        }
      ],
      "source": [
        "print(\"Milena\")"
      ]
    },
    {
      "cell_type": "code",
      "source": [
        "# TEXTO E NUMERO\n",
        "print('Idade:', 28)\n",
        "\n",
        "# TEXTO COM BOOLEANO\n",
        "print('Cerveja:', True)\n",
        "\n",
        "# TEXTOS LONGOS, COM MAIS DE UMA LINHA\n",
        "H =       20\n",
        "P =       50\n",
        "D =       15\n",
        "R =        6\n",
        "print('''Cardapio:\n",
        "1 - Hamburguer {}\n",
        "2 - Pizza {}\n",
        "3 - Dogão {}\n",
        "4 - Refri {}'''.format(H,P,D,R))\n",
        "\n",
        "# IMPRIMIR A MENSAGEM\n",
        "#   \"Prof, você é muito legal\"\n",
        "# MAS O MUITO TEM QUE REPETIR 25 VEZES\n",
        "print(\"Prof, você é \", 25*\"muito \", \"legal\")\n",
        "\n"
      ],
      "metadata": {
        "colab": {
          "base_uri": "https://localhost:8080/"
        },
        "id": "Rk9Ds6GYSSOf",
        "outputId": "61e24533-a323-4128-c106-c8a9fb792fb8"
      },
      "execution_count": null,
      "outputs": [
        {
          "output_type": "stream",
          "name": "stdout",
          "text": [
            "Idade: 28\n",
            "Cerveja: True\n",
            "Cardapio:\n",
            "1 - Hamburguer 20\n",
            "2 - Pizza 50\n",
            "3 - Dogão 15\n",
            "4 - Refri 6\n",
            "Prof, você é  muito muito muito muito muito muito muito muito muito muito muito muito muito muito muito muito muito muito muito muito muito muito muito muito muito  legal\n"
          ]
        }
      ]
    },
    {
      "cell_type": "code",
      "source": [
        "# Declarar a primeira variável:\n",
        "print(\"Digite um numero\")\n",
        "num1 = input()\n",
        "\n",
        "# Declarar a segunda variável:\n",
        "print(\"Digite outro numero\")\n",
        "num2 = input()\n",
        "\n",
        "# Fazer a soma da primeira variável com a segunda variável\n",
        "soma  = int(num1) + int(num2)\n",
        "\n",
        "# Imprimir na tela\n",
        "print(\"{} + {} = {}\".format(num1, num2, soma))"
      ],
      "metadata": {
        "colab": {
          "base_uri": "https://localhost:8080/"
        },
        "id": "-yrwBORwkwWP",
        "outputId": "505b09c9-3cef-4ea5-8c68-840adee646ed"
      },
      "execution_count": null,
      "outputs": [
        {
          "output_type": "stream",
          "name": "stdout",
          "text": [
            "Digite um numero\n",
            "2\n",
            "Digite outro numero\n",
            "2\n",
            "2 + 2 = 4\n"
          ]
        }
      ]
    },
    {
      "cell_type": "code",
      "source": [
        "# Declarar a primeira variável:\n",
        "print(\"Digite um numero\")\n",
        "num1 = int(input())\n",
        "\n",
        "# Declarar a segunda variável:\n",
        "print(\"Digite outro numero\")\n",
        "num2 = int(input())\n",
        "\n",
        "# Fazer a soma da primeira variável com a segunda variável\n",
        "soma = (num1) + (num2)\n",
        "\n",
        "# Imprimir na tela\n",
        "print(\"{} + {} = {}\".format(num1, num2, soma))"
      ],
      "metadata": {
        "colab": {
          "base_uri": "https://localhost:8080/"
        },
        "id": "IUJ_j7hclzhX",
        "outputId": "10630f33-caab-4400-d0b3-35587d312e60"
      },
      "execution_count": 1,
      "outputs": [
        {
          "output_type": "stream",
          "name": "stdout",
          "text": [
            "Digite um numero\n",
            "2\n",
            "Digite outro numero\n",
            "2\n",
            "2 + 2 = 4\n"
          ]
        }
      ]
    }
  ]
}